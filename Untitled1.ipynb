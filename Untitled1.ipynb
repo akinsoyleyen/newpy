{
 "cells": [
  {
   "cell_type": "code",
   "execution_count": 2,
   "metadata": {},
   "outputs": [],
   "source": [
    "import pandas"
   ]
  },
  {
   "cell_type": "code",
   "execution_count": 7,
   "metadata": {},
   "outputs": [],
   "source": [
    "from __future__ import print_function\n",
    "from statsmodels.compat import lzip\n",
    "import numpy as np\n",
    "import pandas as pd\n",
    "import matplotlib.pyplot as plt\n",
    "import statsmodels.api as sm\n",
    "from statsmodels.formula.api import ols\n",
    "import os"
   ]
  },
  {
   "cell_type": "code",
   "execution_count": 12,
   "metadata": {},
   "outputs": [
    {
     "data": {
      "text/plain": [
       "['guess_the_number.py',\n",
       " 'linux_signing_key.pub',\n",
       " 'pcc_user.py',\n",
       " 'Untitled1.ipynb',\n",
       " 'guess_number.py',\n",
       " 'person.py',\n",
       " '.DS_Store',\n",
       " 'get-pip.py',\n",
       " 'lcd.py',\n",
       " 'ex19_2.py',\n",
       " 'trial_s.py',\n",
       " 'methods.py',\n",
       " 'While_ex_basic.py',\n",
       " 'geckodriver-v0.26.0-linux64.tar.gz',\n",
       " 'Untitled.ipynb',\n",
       " 'containers.py',\n",
       " 'ex24.py',\n",
       " 'ex30.py',\n",
       " 'ex32_2.py',\n",
       " 'pythoncrashcourse_restaurant_class.py',\n",
       " 'Container.txt',\n",
       " 'ex14.py',\n",
       " 'ex20.py',\n",
       " 'character_count.py',\n",
       " 'ex31.py',\n",
       " 'abs_maplt.py',\n",
       " 'isci_hesaplama.py',\n",
       " 'abs_regular_expressions.py',\n",
       " 'ex15.py',\n",
       " 'ex21.py',\n",
       " 'ex18_function_basics.py',\n",
       " 'ex35.py',\n",
       " '__pycache__',\n",
       " 'languages.txt',\n",
       " 'chromedriver.exe',\n",
       " 'uretim_planlama.py',\n",
       " 'multiple_assignment.py',\n",
       " 'ex25.py',\n",
       " 'ex32.py',\n",
       " 'currency_rates.py',\n",
       " 'Error_Handling.py',\n",
       " 'pythoncrashcourse_class.py',\n",
       " 'geckodriver',\n",
       " 'abs_excel.py',\n",
       " 'ex16.py',\n",
       " 'abs_thy1.py',\n",
       " 'abs_thy.py',\n",
       " 'geckodriver.log',\n",
       " 'abs_excel_containers.py',\n",
       " 'beautifulsoup.py',\n",
       " 'ex26.py',\n",
       " 'ex12.py',\n",
       " '.venv',\n",
       " 'mapit.py',\n",
       " 'yourName.py',\n",
       " 'ex13.py',\n",
       " 'ex33.py',\n",
       " 'debug.log',\n",
       " 'abs_BeautifulSoup.py',\n",
       " 'ex17.py',\n",
       " 'ex23.py',\n",
       " 'yourNameContinue.py',\n",
       " '.ipynb_checkpoints',\n",
       " 'ex38.py',\n",
       " 'abs_Loops_Lists1.py',\n",
       " 'chromedriver',\n",
       " 'Documents',\n",
       " 'ex39_1.py',\n",
       " 'abs_selenium.py',\n",
       " '.git',\n",
       " '.vscode',\n",
       " 'untitled',\n",
       " 'gallery.py',\n",
       " 'Containers.txt',\n",
       " 'pygit.py',\n",
       " 'codewars.py',\n",
       " 'pcc_cars.py',\n",
       " 'ex19.py',\n",
       " 'email1.py',\n",
       " 'request_web.py',\n",
       " 'ex39.py',\n",
       " 'deneme.py',\n",
       " 'ex29.py',\n",
       " '.idea']"
      ]
     },
     "execution_count": 12,
     "metadata": {},
     "output_type": "execute_result"
    }
   ],
   "source": [
    "os.listdir()"
   ]
  }
 ],
 "metadata": {
  "kernelspec": {
   "display_name": "Python 3",
   "language": "python",
   "name": "python3"
  },
  "language_info": {
   "codemirror_mode": {
    "name": "ipython",
    "version": 3
   },
   "file_extension": ".py",
   "mimetype": "text/x-python",
   "name": "python",
   "nbconvert_exporter": "python",
   "pygments_lexer": "ipython3",
   "version": "3.8.0"
  }
 },
 "nbformat": 4,
 "nbformat_minor": 4
}
